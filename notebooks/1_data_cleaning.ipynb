{
 "cells": [
  {
   "cell_type": "code",
   "execution_count": 1,
   "id": "a1a95fe3-865a-418c-999d-4d04c28df093",
   "metadata": {},
   "outputs": [],
   "source": [
    "import pandas as pd\n",
    "import os\n"
   ]
  },
  {
   "cell_type": "code",
   "execution_count": 4,
   "id": "05223606-4cb7-4d57-828e-90d470f1a6e6",
   "metadata": {},
   "outputs": [],
   "source": [
    "# Load dataset\n",
    "file_path = \"../data/raw/telco.csv\"  # Adjust path based on your setup\n",
    "data = pd.read_csv(file_path)\n"
   ]
  },
  {
   "cell_type": "code",
   "execution_count": 5,
   "id": "2bdb8bcc-6d2e-415a-ae76-484444fd26d3",
   "metadata": {},
   "outputs": [
    {
     "name": "stdout",
     "output_type": "stream",
     "text": [
      "  Customer ID  Gender  Age Under 30 Senior Citizen Married Dependents  \\\n",
      "0  8779-QRDMV    Male   78       No            Yes      No         No   \n",
      "1  7495-OOKFY  Female   74       No            Yes     Yes        Yes   \n",
      "2  1658-BYGOY    Male   71       No            Yes      No        Yes   \n",
      "3  4598-XLKNJ  Female   78       No            Yes     Yes        Yes   \n",
      "4  4846-WHAFZ  Female   80       No            Yes     Yes        Yes   \n",
      "\n",
      "   Number of Dependents        Country       State  ...  \\\n",
      "0                     0  United States  California  ...   \n",
      "1                     1  United States  California  ...   \n",
      "2                     3  United States  California  ...   \n",
      "3                     1  United States  California  ...   \n",
      "4                     1  United States  California  ...   \n",
      "\n",
      "  Total Extra Data Charges  Total Long Distance Charges  Total Revenue  \\\n",
      "0                       20                         0.00          59.65   \n",
      "1                        0                       390.80        1024.10   \n",
      "2                        0                       203.94        1910.88   \n",
      "3                        0                       494.00        2995.07   \n",
      "4                        0                       234.21        3102.36   \n",
      "\n",
      "   Satisfaction Score  Customer Status Churn Label Churn Score  CLTV  \\\n",
      "0                   3          Churned         Yes          91  5433   \n",
      "1                   3          Churned         Yes          69  5302   \n",
      "2                   2          Churned         Yes          81  3179   \n",
      "3                   2          Churned         Yes          88  5337   \n",
      "4                   2          Churned         Yes          67  2793   \n",
      "\n",
      "    Churn Category                  Churn Reason  \n",
      "0       Competitor  Competitor offered more data  \n",
      "1       Competitor  Competitor made better offer  \n",
      "2       Competitor  Competitor made better offer  \n",
      "3  Dissatisfaction     Limited range of services  \n",
      "4            Price            Extra data charges  \n",
      "\n",
      "[5 rows x 50 columns]\n"
     ]
    }
   ],
   "source": [
    "print(data.head())  # Displays the first 5 rows of the DataFrame\n"
   ]
  },
  {
   "cell_type": "code",
   "execution_count": 6,
   "id": "7d0647e6-6248-4078-8d43-d5efe4c3986f",
   "metadata": {},
   "outputs": [
    {
     "name": "stdout",
     "output_type": "stream",
     "text": [
      "  Customer ID  Gender  Age Under 30 Senior Citizen Married Dependents  \\\n",
      "0  8779-QRDMV    Male   78       No            Yes      No         No   \n",
      "1  7495-OOKFY  Female   74       No            Yes     Yes        Yes   \n",
      "2  1658-BYGOY    Male   71       No            Yes      No        Yes   \n",
      "3  4598-XLKNJ  Female   78       No            Yes     Yes        Yes   \n",
      "4  4846-WHAFZ  Female   80       No            Yes     Yes        Yes   \n",
      "\n",
      "   Number of Dependents        Country       State  ...  \\\n",
      "0                     0  United States  California  ...   \n",
      "1                     1  United States  California  ...   \n",
      "2                     3  United States  California  ...   \n",
      "3                     1  United States  California  ...   \n",
      "4                     1  United States  California  ...   \n",
      "\n",
      "  Total Extra Data Charges  Total Long Distance Charges  Total Revenue  \\\n",
      "0                       20                         0.00          59.65   \n",
      "1                        0                       390.80        1024.10   \n",
      "2                        0                       203.94        1910.88   \n",
      "3                        0                       494.00        2995.07   \n",
      "4                        0                       234.21        3102.36   \n",
      "\n",
      "   Satisfaction Score  Customer Status Churn Label Churn Score  CLTV  \\\n",
      "0                   3          Churned         Yes          91  5433   \n",
      "1                   3          Churned         Yes          69  5302   \n",
      "2                   2          Churned         Yes          81  3179   \n",
      "3                   2          Churned         Yes          88  5337   \n",
      "4                   2          Churned         Yes          67  2793   \n",
      "\n",
      "    Churn Category                  Churn Reason  \n",
      "0       Competitor  Competitor offered more data  \n",
      "1       Competitor  Competitor made better offer  \n",
      "2       Competitor  Competitor made better offer  \n",
      "3  Dissatisfaction     Limited range of services  \n",
      "4            Price            Extra data charges  \n",
      "\n",
      "[5 rows x 50 columns]\n",
      "<class 'pandas.core.frame.DataFrame'>\n",
      "RangeIndex: 7043 entries, 0 to 7042\n",
      "Data columns (total 50 columns):\n",
      " #   Column                             Non-Null Count  Dtype  \n",
      "---  ------                             --------------  -----  \n",
      " 0   Customer ID                        7043 non-null   object \n",
      " 1   Gender                             7043 non-null   object \n",
      " 2   Age                                7043 non-null   int64  \n",
      " 3   Under 30                           7043 non-null   object \n",
      " 4   Senior Citizen                     7043 non-null   object \n",
      " 5   Married                            7043 non-null   object \n",
      " 6   Dependents                         7043 non-null   object \n",
      " 7   Number of Dependents               7043 non-null   int64  \n",
      " 8   Country                            7043 non-null   object \n",
      " 9   State                              7043 non-null   object \n",
      " 10  City                               7043 non-null   object \n",
      " 11  Zip Code                           7043 non-null   int64  \n",
      " 12  Latitude                           7043 non-null   float64\n",
      " 13  Longitude                          7043 non-null   float64\n",
      " 14  Population                         7043 non-null   int64  \n",
      " 15  Quarter                            7043 non-null   object \n",
      " 16  Referred a Friend                  7043 non-null   object \n",
      " 17  Number of Referrals                7043 non-null   int64  \n",
      " 18  Tenure in Months                   7043 non-null   int64  \n",
      " 19  Offer                              3166 non-null   object \n",
      " 20  Phone Service                      7043 non-null   object \n",
      " 21  Avg Monthly Long Distance Charges  7043 non-null   float64\n",
      " 22  Multiple Lines                     7043 non-null   object \n",
      " 23  Internet Service                   7043 non-null   object \n",
      " 24  Internet Type                      5517 non-null   object \n",
      " 25  Avg Monthly GB Download            7043 non-null   int64  \n",
      " 26  Online Security                    7043 non-null   object \n",
      " 27  Online Backup                      7043 non-null   object \n",
      " 28  Device Protection Plan             7043 non-null   object \n",
      " 29  Premium Tech Support               7043 non-null   object \n",
      " 30  Streaming TV                       7043 non-null   object \n",
      " 31  Streaming Movies                   7043 non-null   object \n",
      " 32  Streaming Music                    7043 non-null   object \n",
      " 33  Unlimited Data                     7043 non-null   object \n",
      " 34  Contract                           7043 non-null   object \n",
      " 35  Paperless Billing                  7043 non-null   object \n",
      " 36  Payment Method                     7043 non-null   object \n",
      " 37  Monthly Charge                     7043 non-null   float64\n",
      " 38  Total Charges                      7043 non-null   float64\n",
      " 39  Total Refunds                      7043 non-null   float64\n",
      " 40  Total Extra Data Charges           7043 non-null   int64  \n",
      " 41  Total Long Distance Charges        7043 non-null   float64\n",
      " 42  Total Revenue                      7043 non-null   float64\n",
      " 43  Satisfaction Score                 7043 non-null   int64  \n",
      " 44  Customer Status                    7043 non-null   object \n",
      " 45  Churn Label                        7043 non-null   object \n",
      " 46  Churn Score                        7043 non-null   int64  \n",
      " 47  CLTV                               7043 non-null   int64  \n",
      " 48  Churn Category                     1869 non-null   object \n",
      " 49  Churn Reason                       1869 non-null   object \n",
      "dtypes: float64(8), int64(11), object(31)\n",
      "memory usage: 2.7+ MB\n",
      "None\n"
     ]
    }
   ],
   "source": [
    "# Explore dataset\n",
    "print(data.head())\n",
    "print(data.info())\n"
   ]
  },
  {
   "cell_type": "code",
   "execution_count": 7,
   "id": "3ce2402f-59b4-428d-bebc-6ad269556274",
   "metadata": {},
   "outputs": [],
   "source": [
    "# Save exploration outputs to logs if needed\n",
    "if not os.path.exists(\"../artifacts/\"):\n",
    "    os.makedirs(\"../artifacts/\")  # Create 'artifacts' folder if not present\n",
    "\n",
    "data.describe().to_csv(\"../artifacts/data_summary.csv\")\n"
   ]
  },
  {
   "cell_type": "code",
   "execution_count": 8,
   "id": "b6975520-e5a3-4ff9-8258-dcced1bba534",
   "metadata": {},
   "outputs": [
    {
     "name": "stderr",
     "output_type": "stream",
     "text": [
      "C:\\Users\\vivek\\AppData\\Local\\Temp\\ipykernel_11456\\1347760110.py:2: FutureWarning: A value is trying to be set on a copy of a DataFrame or Series through chained assignment using an inplace method.\n",
      "The behavior will change in pandas 3.0. This inplace method will never work because the intermediate object on which we are setting values always behaves as a copy.\n",
      "\n",
      "For example, when doing 'df[col].method(value, inplace=True)', try using 'df.method({col: value}, inplace=True)' or df[col] = df[col].method(value) instead, to perform the operation inplace on the original object.\n",
      "\n",
      "\n",
      "  data['Churn Category'].fillna('Unknown', inplace=True)\n",
      "C:\\Users\\vivek\\AppData\\Local\\Temp\\ipykernel_11456\\1347760110.py:3: FutureWarning: A value is trying to be set on a copy of a DataFrame or Series through chained assignment using an inplace method.\n",
      "The behavior will change in pandas 3.0. This inplace method will never work because the intermediate object on which we are setting values always behaves as a copy.\n",
      "\n",
      "For example, when doing 'df[col].method(value, inplace=True)', try using 'df.method({col: value}, inplace=True)' or df[col] = df[col].method(value) instead, to perform the operation inplace on the original object.\n",
      "\n",
      "\n",
      "  data['Churn Reason'].fillna('Unknown', inplace=True)\n"
     ]
    }
   ],
   "source": [
    "# Handle missing values\n",
    "data['Churn Category'].fillna('Unknown', inplace=True)\n",
    "data['Churn Reason'].fillna('Unknown', inplace=True)\n"
   ]
  },
  {
   "cell_type": "code",
   "execution_count": 11,
   "id": "e2398215-7349-4a96-98c9-494b4caf566e",
   "metadata": {},
   "outputs": [
    {
     "name": "stdout",
     "output_type": "stream",
     "text": [
      "Index(['Customer ID', 'Gender', 'Age', 'Under 30', 'Senior Citizen', 'Married',\n",
      "       'Dependents', 'Number of Dependents', 'Country', 'State', 'City',\n",
      "       'Zip Code', 'Latitude', 'Longitude', 'Population', 'Quarter',\n",
      "       'Referred a Friend', 'Number of Referrals', 'Tenure in Months', 'Offer',\n",
      "       'Phone Service', 'Avg Monthly Long Distance Charges', 'Multiple Lines',\n",
      "       'Internet Service', 'Internet Type', 'Avg Monthly GB Download',\n",
      "       'Online Security', 'Online Backup', 'Device Protection Plan',\n",
      "       'Premium Tech Support', 'Streaming TV', 'Streaming Movies',\n",
      "       'Streaming Music', 'Unlimited Data', 'Contract', 'Paperless Billing',\n",
      "       'Payment Method', 'Monthly Charge', 'Total Charges', 'Total Refunds',\n",
      "       'Total Extra Data Charges', 'Total Long Distance Charges',\n",
      "       'Total Revenue', 'Satisfaction Score', 'Customer Status', 'Churn Label',\n",
      "       'Churn Score', 'CLTV', 'Churn Category', 'Churn Reason'],\n",
      "      dtype='object')\n"
     ]
    }
   ],
   "source": [
    "print(data.columns)  # Display the column names in the DataFrame\n"
   ]
  },
  {
   "cell_type": "code",
   "execution_count": 12,
   "id": "6e8a6a8e-12d2-4dc1-b1b0-10f4b878b04c",
   "metadata": {},
   "outputs": [],
   "source": [
    "drop_cols = ['CustomerID', 'Count', 'Quarter']\n",
    "# Filter out any columns that don't exist in the DataFrame\n",
    "drop_cols = [col for col in drop_cols if col in data.columns]\n",
    "data_cleaned = data.drop(columns=drop_cols)\n"
   ]
  },
  {
   "cell_type": "code",
   "execution_count": 13,
   "id": "d305312c-d6cf-46a5-b221-bc33bfe55e24",
   "metadata": {},
   "outputs": [
    {
     "name": "stdout",
     "output_type": "stream",
     "text": [
      "Index(['Customer ID', 'Gender', 'Age', 'Under 30', 'Senior Citizen', 'Married',\n",
      "       'Dependents', 'Number of Dependents', 'Country', 'State', 'City',\n",
      "       'Zip Code', 'Latitude', 'Longitude', 'Population', 'Quarter',\n",
      "       'Referred a Friend', 'Number of Referrals', 'Tenure in Months', 'Offer',\n",
      "       'Phone Service', 'Avg Monthly Long Distance Charges', 'Multiple Lines',\n",
      "       'Internet Service', 'Internet Type', 'Avg Monthly GB Download',\n",
      "       'Online Security', 'Online Backup', 'Device Protection Plan',\n",
      "       'Premium Tech Support', 'Streaming TV', 'Streaming Movies',\n",
      "       'Streaming Music', 'Unlimited Data', 'Contract', 'Paperless Billing',\n",
      "       'Payment Method', 'Monthly Charge', 'Total Charges', 'Total Refunds',\n",
      "       'Total Extra Data Charges', 'Total Long Distance Charges',\n",
      "       'Total Revenue', 'Satisfaction Score', 'Customer Status', 'Churn Label',\n",
      "       'Churn Score', 'CLTV', 'Churn Category', 'Churn Reason'],\n",
      "      dtype='object')\n",
      "  Customer ID  Gender  Age Under 30 Senior Citizen Married Dependents  \\\n",
      "0  8779-QRDMV    Male   78       No            Yes      No         No   \n",
      "1  7495-OOKFY  Female   74       No            Yes     Yes        Yes   \n",
      "2  1658-BYGOY    Male   71       No            Yes      No        Yes   \n",
      "3  4598-XLKNJ  Female   78       No            Yes     Yes        Yes   \n",
      "4  4846-WHAFZ  Female   80       No            Yes     Yes        Yes   \n",
      "\n",
      "   Number of Dependents        Country       State  ...  \\\n",
      "0                     0  United States  California  ...   \n",
      "1                     1  United States  California  ...   \n",
      "2                     3  United States  California  ...   \n",
      "3                     1  United States  California  ...   \n",
      "4                     1  United States  California  ...   \n",
      "\n",
      "  Total Extra Data Charges  Total Long Distance Charges  Total Revenue  \\\n",
      "0                       20                         0.00          59.65   \n",
      "1                        0                       390.80        1024.10   \n",
      "2                        0                       203.94        1910.88   \n",
      "3                        0                       494.00        2995.07   \n",
      "4                        0                       234.21        3102.36   \n",
      "\n",
      "   Satisfaction Score  Customer Status Churn Label  Churn Score  CLTV  \\\n",
      "0                   3          Churned         Yes           91  5433   \n",
      "1                   3          Churned         Yes           69  5302   \n",
      "2                   2          Churned         Yes           81  3179   \n",
      "3                   2          Churned         Yes           88  5337   \n",
      "4                   2          Churned         Yes           67  2793   \n",
      "\n",
      "    Churn Category                  Churn Reason  \n",
      "0       Competitor  Competitor offered more data  \n",
      "1       Competitor  Competitor made better offer  \n",
      "2       Competitor  Competitor made better offer  \n",
      "3  Dissatisfaction     Limited range of services  \n",
      "4            Price            Extra data charges  \n",
      "\n",
      "[5 rows x 49 columns]\n"
     ]
    }
   ],
   "source": [
    "# Check column names\n",
    "print(data.columns)\n",
    "\n",
    "# Drop irrelevant columns (only if they exist)\n",
    "drop_cols = ['CustomerID', 'Count', 'Quarter']\n",
    "drop_cols = [col for col in drop_cols if col in data.columns]\n",
    "data_cleaned = data.drop(columns=drop_cols)\n",
    "\n",
    "# Verify the cleaned data\n",
    "print(data_cleaned.head())\n"
   ]
  },
  {
   "cell_type": "code",
   "execution_count": 15,
   "id": "bea1e0b9-a428-4d97-b0e3-9d1a1c1f73ba",
   "metadata": {},
   "outputs": [
    {
     "name": "stdout",
     "output_type": "stream",
     "text": [
      "Cleaned data saved to ../data/processed/cleaned_data.csv\n"
     ]
    }
   ],
   "source": [
    "# Save cleaned data\n",
    "cleaned_path = \"../data/processed/cleaned_data.csv\"\n",
    "data_cleaned.to_csv(cleaned_path, index=False)\n",
    "print(f\"Cleaned data saved to {cleaned_path}\")\n"
   ]
  },
  {
   "cell_type": "code",
   "execution_count": 4,
   "id": "99dda437-f99c-4630-bd97-7598327e5d33",
   "metadata": {},
   "outputs": [
    {
     "name": "stdout",
     "output_type": "stream",
     "text": [
      "  Customer ID  Gender  Age Under 30 Senior Citizen Married Dependents  \\\n",
      "0  8779-QRDMV    Male   78       No            Yes      No         No   \n",
      "1  7495-OOKFY  Female   74       No            Yes     Yes        Yes   \n",
      "2  1658-BYGOY    Male   71       No            Yes      No        Yes   \n",
      "3  4598-XLKNJ  Female   78       No            Yes     Yes        Yes   \n",
      "4  4846-WHAFZ  Female   80       No            Yes     Yes        Yes   \n",
      "\n",
      "   Number of Dependents        Country       State  ...  \\\n",
      "0                     0  United States  California  ...   \n",
      "1                     1  United States  California  ...   \n",
      "2                     3  United States  California  ...   \n",
      "3                     1  United States  California  ...   \n",
      "4                     1  United States  California  ...   \n",
      "\n",
      "  Total Extra Data Charges  Total Long Distance Charges  Total Revenue  \\\n",
      "0                       20                         0.00          59.65   \n",
      "1                        0                       390.80        1024.10   \n",
      "2                        0                       203.94        1910.88   \n",
      "3                        0                       494.00        2995.07   \n",
      "4                        0                       234.21        3102.36   \n",
      "\n",
      "   Satisfaction Score  Customer Status Churn Label Churn Score  CLTV  \\\n",
      "0                   3          Churned         Yes          91  5433   \n",
      "1                   3          Churned         Yes          69  5302   \n",
      "2                   2          Churned         Yes          81  3179   \n",
      "3                   2          Churned         Yes          88  5337   \n",
      "4                   2          Churned         Yes          67  2793   \n",
      "\n",
      "    Churn Category                  Churn Reason  \n",
      "0       Competitor  Competitor offered more data  \n",
      "1       Competitor  Competitor made better offer  \n",
      "2       Competitor  Competitor made better offer  \n",
      "3  Dissatisfaction     Limited range of services  \n",
      "4            Price            Extra data charges  \n",
      "\n",
      "[5 rows x 50 columns]\n"
     ]
    }
   ],
   "source": [
    "# Import pandas library\n",
    "import pandas as pd\n",
    "\n",
    "# Load dataset into the 'data' variable\n",
    "file_path = \"../data/raw/telco.csv\"  # Update with the correct path\n",
    "data = pd.read_csv(file_path)\n",
    "\n",
    "# Display the first few rows to verify loading\n",
    "print(data.head())\n"
   ]
  },
  {
   "cell_type": "code",
   "execution_count": 5,
   "id": "ad947810-75d4-4758-a28e-bc592555b2b8",
   "metadata": {},
   "outputs": [
    {
     "name": "stdout",
     "output_type": "stream",
     "text": [
      "Churn Category    0\n",
      "Churn Reason      0\n",
      "dtype: int64\n"
     ]
    },
    {
     "name": "stderr",
     "output_type": "stream",
     "text": [
      "C:\\Users\\vivek\\AppData\\Local\\Temp\\ipykernel_13292\\2868960520.py:2: FutureWarning: A value is trying to be set on a copy of a DataFrame or Series through chained assignment using an inplace method.\n",
      "The behavior will change in pandas 3.0. This inplace method will never work because the intermediate object on which we are setting values always behaves as a copy.\n",
      "\n",
      "For example, when doing 'df[col].method(value, inplace=True)', try using 'df.method({col: value}, inplace=True)' or df[col] = df[col].method(value) instead, to perform the operation inplace on the original object.\n",
      "\n",
      "\n",
      "  data['Churn Category'].fillna('Unknown', inplace=True)\n",
      "C:\\Users\\vivek\\AppData\\Local\\Temp\\ipykernel_13292\\2868960520.py:3: FutureWarning: A value is trying to be set on a copy of a DataFrame or Series through chained assignment using an inplace method.\n",
      "The behavior will change in pandas 3.0. This inplace method will never work because the intermediate object on which we are setting values always behaves as a copy.\n",
      "\n",
      "For example, when doing 'df[col].method(value, inplace=True)', try using 'df.method({col: value}, inplace=True)' or df[col] = df[col].method(value) instead, to perform the operation inplace on the original object.\n",
      "\n",
      "\n",
      "  data['Churn Reason'].fillna('Unknown', inplace=True)\n"
     ]
    }
   ],
   "source": [
    "# Handle missing values\n",
    "data['Churn Category'].fillna('Unknown', inplace=True)\n",
    "data['Churn Reason'].fillna('Unknown', inplace=True)\n",
    "\n",
    "# Verify changes\n",
    "print(data[['Churn Category', 'Churn Reason']].isnull().sum())  # Should return 0 for these columns\n"
   ]
  },
  {
   "cell_type": "code",
   "execution_count": 6,
   "id": "d1282267-4610-43e0-aba2-2ba0dcfa291c",
   "metadata": {},
   "outputs": [
    {
     "name": "stdout",
     "output_type": "stream",
     "text": [
      "Index(['Customer ID', 'Gender', 'Age', 'Under 30', 'Senior Citizen', 'Married',\n",
      "       'Dependents', 'Number of Dependents', 'Country', 'State', 'City',\n",
      "       'Zip Code', 'Latitude', 'Longitude', 'Population', 'Referred a Friend',\n",
      "       'Number of Referrals', 'Tenure in Months', 'Offer', 'Phone Service',\n",
      "       'Avg Monthly Long Distance Charges', 'Multiple Lines',\n",
      "       'Internet Service', 'Internet Type', 'Avg Monthly GB Download',\n",
      "       'Online Security', 'Online Backup', 'Device Protection Plan',\n",
      "       'Premium Tech Support', 'Streaming TV', 'Streaming Movies',\n",
      "       'Streaming Music', 'Unlimited Data', 'Contract', 'Paperless Billing',\n",
      "       'Payment Method', 'Monthly Charge', 'Total Charges', 'Total Refunds',\n",
      "       'Total Extra Data Charges', 'Total Long Distance Charges',\n",
      "       'Total Revenue', 'Satisfaction Score', 'Customer Status', 'Churn Label',\n",
      "       'Churn Score', 'CLTV', 'Churn Category', 'Churn Reason'],\n",
      "      dtype='object')\n"
     ]
    }
   ],
   "source": [
    "# Define columns to drop\n",
    "drop_cols = ['CustomerID', 'Count', 'Quarter']\n",
    "\n",
    "# Filter out columns that don't exist in the dataset to avoid errors\n",
    "drop_cols = [col for col in drop_cols if col in data.columns]\n",
    "\n",
    "# Drop irrelevant columns\n",
    "data_cleaned = data.drop(columns=drop_cols)\n",
    "\n",
    "# Verify columns after dropping\n",
    "print(data_cleaned.columns)  # Ensure specified columns are no longer present\n",
    "\n"
   ]
  },
  {
   "cell_type": "code",
   "execution_count": 7,
   "id": "840fa959-46ab-4b49-b6f0-4f4a4ad49edb",
   "metadata": {},
   "outputs": [
    {
     "name": "stdout",
     "output_type": "stream",
     "text": [
      "Cleaned data saved to ../data/processed/cleaned_data.csv\n"
     ]
    }
   ],
   "source": [
    "# Specify the path to save the cleaned dataset\n",
    "cleaned_path = \"../data/processed/cleaned_data.csv\"\n",
    "\n",
    "# Save cleaned data to the specified file\n",
    "data_cleaned.to_csv(cleaned_path, index=False)\n",
    "\n",
    "# Confirm successful save\n",
    "print(f\"Cleaned data saved to {cleaned_path}\")\n"
   ]
  },
  {
   "cell_type": "code",
   "execution_count": 8,
   "id": "0781a0ee-b95f-4ca0-9a1a-43dc83f195fa",
   "metadata": {},
   "outputs": [
    {
     "name": "stdout",
     "output_type": "stream",
     "text": [
      "  Customer ID  Gender  Age Under 30 Senior Citizen Married Dependents  \\\n",
      "0  8779-QRDMV    Male   78       No            Yes      No         No   \n",
      "1  7495-OOKFY  Female   74       No            Yes     Yes        Yes   \n",
      "2  1658-BYGOY    Male   71       No            Yes      No        Yes   \n",
      "3  4598-XLKNJ  Female   78       No            Yes     Yes        Yes   \n",
      "4  4846-WHAFZ  Female   80       No            Yes     Yes        Yes   \n",
      "\n",
      "   Number of Dependents        Country       State  ...  \\\n",
      "0                     0  United States  California  ...   \n",
      "1                     1  United States  California  ...   \n",
      "2                     3  United States  California  ...   \n",
      "3                     1  United States  California  ...   \n",
      "4                     1  United States  California  ...   \n",
      "\n",
      "  Total Extra Data Charges  Total Long Distance Charges  Total Revenue  \\\n",
      "0                       20                         0.00          59.65   \n",
      "1                        0                       390.80        1024.10   \n",
      "2                        0                       203.94        1910.88   \n",
      "3                        0                       494.00        2995.07   \n",
      "4                        0                       234.21        3102.36   \n",
      "\n",
      "   Satisfaction Score  Customer Status Churn Label  Churn Score  CLTV  \\\n",
      "0                   3          Churned         Yes           91  5433   \n",
      "1                   3          Churned         Yes           69  5302   \n",
      "2                   2          Churned         Yes           81  3179   \n",
      "3                   2          Churned         Yes           88  5337   \n",
      "4                   2          Churned         Yes           67  2793   \n",
      "\n",
      "    Churn Category                  Churn Reason  \n",
      "0       Competitor  Competitor offered more data  \n",
      "1       Competitor  Competitor made better offer  \n",
      "2       Competitor  Competitor made better offer  \n",
      "3  Dissatisfaction     Limited range of services  \n",
      "4            Price            Extra data charges  \n",
      "\n",
      "[5 rows x 49 columns]\n"
     ]
    }
   ],
   "source": [
    "print(data_cleaned.head())\n"
   ]
  },
  {
   "cell_type": "code",
   "execution_count": 9,
   "id": "853fcc3f-f0bc-414e-9eff-cea82b29f150",
   "metadata": {},
   "outputs": [
    {
     "name": "stdout",
     "output_type": "stream",
     "text": [
      "<class 'pandas.core.frame.DataFrame'>\n",
      "RangeIndex: 7043 entries, 0 to 7042\n",
      "Data columns (total 49 columns):\n",
      " #   Column                             Non-Null Count  Dtype  \n",
      "---  ------                             --------------  -----  \n",
      " 0   Customer ID                        7043 non-null   object \n",
      " 1   Gender                             7043 non-null   object \n",
      " 2   Age                                7043 non-null   int64  \n",
      " 3   Under 30                           7043 non-null   object \n",
      " 4   Senior Citizen                     7043 non-null   object \n",
      " 5   Married                            7043 non-null   object \n",
      " 6   Dependents                         7043 non-null   object \n",
      " 7   Number of Dependents               7043 non-null   int64  \n",
      " 8   Country                            7043 non-null   object \n",
      " 9   State                              7043 non-null   object \n",
      " 10  City                               7043 non-null   object \n",
      " 11  Zip Code                           7043 non-null   int64  \n",
      " 12  Latitude                           7043 non-null   float64\n",
      " 13  Longitude                          7043 non-null   float64\n",
      " 14  Population                         7043 non-null   int64  \n",
      " 15  Referred a Friend                  7043 non-null   object \n",
      " 16  Number of Referrals                7043 non-null   int64  \n",
      " 17  Tenure in Months                   7043 non-null   int64  \n",
      " 18  Offer                              3166 non-null   object \n",
      " 19  Phone Service                      7043 non-null   object \n",
      " 20  Avg Monthly Long Distance Charges  7043 non-null   float64\n",
      " 21  Multiple Lines                     7043 non-null   object \n",
      " 22  Internet Service                   7043 non-null   object \n",
      " 23  Internet Type                      5517 non-null   object \n",
      " 24  Avg Monthly GB Download            7043 non-null   int64  \n",
      " 25  Online Security                    7043 non-null   object \n",
      " 26  Online Backup                      7043 non-null   object \n",
      " 27  Device Protection Plan             7043 non-null   object \n",
      " 28  Premium Tech Support               7043 non-null   object \n",
      " 29  Streaming TV                       7043 non-null   object \n",
      " 30  Streaming Movies                   7043 non-null   object \n",
      " 31  Streaming Music                    7043 non-null   object \n",
      " 32  Unlimited Data                     7043 non-null   object \n",
      " 33  Contract                           7043 non-null   object \n",
      " 34  Paperless Billing                  7043 non-null   object \n",
      " 35  Payment Method                     7043 non-null   object \n",
      " 36  Monthly Charge                     7043 non-null   float64\n",
      " 37  Total Charges                      7043 non-null   float64\n",
      " 38  Total Refunds                      7043 non-null   float64\n",
      " 39  Total Extra Data Charges           7043 non-null   int64  \n",
      " 40  Total Long Distance Charges        7043 non-null   float64\n",
      " 41  Total Revenue                      7043 non-null   float64\n",
      " 42  Satisfaction Score                 7043 non-null   int64  \n",
      " 43  Customer Status                    7043 non-null   object \n",
      " 44  Churn Label                        7043 non-null   object \n",
      " 45  Churn Score                        7043 non-null   int64  \n",
      " 46  CLTV                               7043 non-null   int64  \n",
      " 47  Churn Category                     7043 non-null   object \n",
      " 48  Churn Reason                       7043 non-null   object \n",
      "dtypes: float64(8), int64(11), object(30)\n",
      "memory usage: 2.6+ MB\n",
      "None\n"
     ]
    }
   ],
   "source": [
    "print(data_cleaned.info())\n"
   ]
  },
  {
   "cell_type": "code",
   "execution_count": 10,
   "id": "00dc8e6d-1ff8-46f4-8dc9-b6581134fe0e",
   "metadata": {},
   "outputs": [
    {
     "name": "stdout",
     "output_type": "stream",
     "text": [
      "  Customer ID  Gender  Age Under 30 Senior Citizen Married Dependents  \\\n",
      "0  8779-QRDMV    Male   78       No            Yes      No         No   \n",
      "1  7495-OOKFY  Female   74       No            Yes     Yes        Yes   \n",
      "2  1658-BYGOY    Male   71       No            Yes      No        Yes   \n",
      "3  4598-XLKNJ  Female   78       No            Yes     Yes        Yes   \n",
      "4  4846-WHAFZ  Female   80       No            Yes     Yes        Yes   \n",
      "\n",
      "   Number of Dependents        Country       State  ...  \\\n",
      "0                     0  United States  California  ...   \n",
      "1                     1  United States  California  ...   \n",
      "2                     3  United States  California  ...   \n",
      "3                     1  United States  California  ...   \n",
      "4                     1  United States  California  ...   \n",
      "\n",
      "  Total Extra Data Charges  Total Long Distance Charges  Total Revenue  \\\n",
      "0                       20                         0.00          59.65   \n",
      "1                        0                       390.80        1024.10   \n",
      "2                        0                       203.94        1910.88   \n",
      "3                        0                       494.00        2995.07   \n",
      "4                        0                       234.21        3102.36   \n",
      "\n",
      "   Satisfaction Score  Customer Status Churn Label  Churn Score  CLTV  \\\n",
      "0                   3          Churned         Yes           91  5433   \n",
      "1                   3          Churned         Yes           69  5302   \n",
      "2                   2          Churned         Yes           81  3179   \n",
      "3                   2          Churned         Yes           88  5337   \n",
      "4                   2          Churned         Yes           67  2793   \n",
      "\n",
      "    Churn Category                  Churn Reason  \n",
      "0       Competitor  Competitor offered more data  \n",
      "1       Competitor  Competitor made better offer  \n",
      "2       Competitor  Competitor made better offer  \n",
      "3  Dissatisfaction     Limited range of services  \n",
      "4            Price            Extra data charges  \n",
      "\n",
      "[5 rows x 49 columns]\n"
     ]
    }
   ],
   "source": [
    "test_data = pd.read_csv(cleaned_path)\n",
    "print(test_data.head())\n"
   ]
  }
 ],
 "metadata": {
  "kernelspec": {
   "display_name": "Python 3 (ipykernel)",
   "language": "python",
   "name": "python3"
  },
  "language_info": {
   "codemirror_mode": {
    "name": "ipython",
    "version": 3
   },
   "file_extension": ".py",
   "mimetype": "text/x-python",
   "name": "python",
   "nbconvert_exporter": "python",
   "pygments_lexer": "ipython3",
   "version": "3.12.2"
  }
 },
 "nbformat": 4,
 "nbformat_minor": 5
}
