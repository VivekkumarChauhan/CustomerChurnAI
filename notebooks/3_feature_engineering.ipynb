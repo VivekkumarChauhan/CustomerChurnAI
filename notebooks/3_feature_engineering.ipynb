{
 "cells": [
  {
   "cell_type": "code",
   "execution_count": 1,
   "id": "4641bd91-a0ad-4723-8788-1c8abea23cc7",
   "metadata": {},
   "outputs": [],
   "source": [
    "# Step 1: Import necessary libraries\n",
    "import pandas as pd\n",
    "from sklearn.preprocessing import LabelEncoder, StandardScaler\n",
    "from sklearn.model_selection import train_test_split\n"
   ]
  },
  {
   "cell_type": "code",
   "execution_count": 2,
   "id": "284afbd5-c6c7-4162-a617-c002177735b0",
   "metadata": {},
   "outputs": [],
   "source": [
    "# Step 2: Load the cleaned data (assuming it's already cleaned in the previous steps)\n",
    "data_cleaned = pd.read_csv(\"../data/processed/cleaned_data.csv\")\n"
   ]
  },
  {
   "cell_type": "code",
   "execution_count": 4,
   "id": "da856ba7-cc74-4fe0-8833-b250687d0208",
   "metadata": {},
   "outputs": [],
   "source": [
    "data_cleaned.columns = data_cleaned.columns.str.strip()  # Strip leading/trailing spaces from column names\n"
   ]
  },
  {
   "cell_type": "code",
   "execution_count": 6,
   "id": "9a7a61e3-cfa0-42a0-a8bb-fac2a3e177bf",
   "metadata": {},
   "outputs": [
    {
     "name": "stdout",
     "output_type": "stream",
     "text": [
      "Encoded Categorical Variables:\n",
      "      Gender  Senior Citizen  Married  Phone Service  Internet Service\n",
      "0          1               1        0              0                 1\n",
      "1          0               1        1              1                 1\n",
      "2          1               1        0              1                 1\n",
      "3          0               1        1              1                 1\n",
      "4          0               1        1              1                 1\n",
      "...      ...             ...      ...            ...               ...\n",
      "7038       0               0        0              1                 0\n",
      "7039       1               0        1              1                 1\n",
      "7040       0               0        1              1                 1\n",
      "7041       0               0        1              0                 1\n",
      "7042       1               0        0              1                 1\n",
      "\n",
      "[7043 rows x 5 columns]\n"
     ]
    }
   ],
   "source": [
    "# Adjust the list to exclude 'Partner'\n",
    "categorical_cols = ['Gender', 'Senior Citizen', 'Married', 'Phone Service', 'Internet Service']  # Updated list\n",
    "\n",
    "# Apply LabelEncoder to each categorical column that exists in the dataset\n",
    "for col in [col for col in categorical_cols if col in data_cleaned.columns]:\n",
    "    data_cleaned[col] = label_enc.fit_transform(data_cleaned[col])\n",
    "\n",
    "print(\"Encoded Categorical Variables:\")\n",
    "print(data_cleaned[categorical_cols])  # Print the encoded columns\n"
   ]
  },
  {
   "cell_type": "code",
   "execution_count": 8,
   "id": "72d18fa8-4193-4577-986b-fa46918581ca",
   "metadata": {},
   "outputs": [
    {
     "name": "stdout",
     "output_type": "stream",
     "text": [
      "Missing Values in Each Column:\n",
      "Customer ID                             0\n",
      "Gender                                  0\n",
      "Age                                     0\n",
      "Under 30                                0\n",
      "Senior Citizen                          0\n",
      "Married                                 0\n",
      "Dependents                              0\n",
      "Number of Dependents                    0\n",
      "Country                                 0\n",
      "State                                   0\n",
      "City                                    0\n",
      "Zip Code                                0\n",
      "Latitude                                0\n",
      "Longitude                               0\n",
      "Population                              0\n",
      "Referred a Friend                       0\n",
      "Number of Referrals                     0\n",
      "Tenure in Months                        0\n",
      "Offer                                3877\n",
      "Phone Service                           0\n",
      "Avg Monthly Long Distance Charges       0\n",
      "Multiple Lines                          0\n",
      "Internet Service                        0\n",
      "Internet Type                        1526\n",
      "Avg Monthly GB Download                 0\n",
      "Online Security                         0\n",
      "Online Backup                           0\n",
      "Device Protection Plan                  0\n",
      "Premium Tech Support                    0\n",
      "Streaming TV                            0\n",
      "Streaming Movies                        0\n",
      "Streaming Music                         0\n",
      "Unlimited Data                          0\n",
      "Contract                                0\n",
      "Paperless Billing                       0\n",
      "Payment Method                          0\n",
      "Monthly Charge                          0\n",
      "Total Charges                           0\n",
      "Total Refunds                           0\n",
      "Total Extra Data Charges                0\n",
      "Total Long Distance Charges             0\n",
      "Total Revenue                           0\n",
      "Satisfaction Score                      0\n",
      "Customer Status                         0\n",
      "Churn Label                             0\n",
      "Churn Score                             0\n",
      "CLTV                                    0\n",
      "Churn Category                          0\n",
      "Churn Reason                            0\n",
      "dtype: int64\n",
      "Missing Values After Imputation:\n",
      "Customer ID                             0\n",
      "Gender                                  0\n",
      "Age                                     0\n",
      "Under 30                                0\n",
      "Senior Citizen                          0\n",
      "Married                                 0\n",
      "Dependents                              0\n",
      "Number of Dependents                    0\n",
      "Country                                 0\n",
      "State                                   0\n",
      "City                                    0\n",
      "Zip Code                                0\n",
      "Latitude                                0\n",
      "Longitude                               0\n",
      "Population                              0\n",
      "Referred a Friend                       0\n",
      "Number of Referrals                     0\n",
      "Tenure in Months                        0\n",
      "Offer                                3877\n",
      "Phone Service                           0\n",
      "Avg Monthly Long Distance Charges       0\n",
      "Multiple Lines                          0\n",
      "Internet Service                        0\n",
      "Internet Type                        1526\n",
      "Avg Monthly GB Download                 0\n",
      "Online Security                         0\n",
      "Online Backup                           0\n",
      "Device Protection Plan                  0\n",
      "Premium Tech Support                    0\n",
      "Streaming TV                            0\n",
      "Streaming Movies                        0\n",
      "Streaming Music                         0\n",
      "Unlimited Data                          0\n",
      "Contract                                0\n",
      "Paperless Billing                       0\n",
      "Payment Method                          0\n",
      "Monthly Charge                          0\n",
      "Total Charges                           0\n",
      "Total Refunds                           0\n",
      "Total Extra Data Charges                0\n",
      "Total Long Distance Charges             0\n",
      "Total Revenue                           0\n",
      "Satisfaction Score                      0\n",
      "Customer Status                         0\n",
      "Churn Label                             0\n",
      "Churn Score                             0\n",
      "CLTV                                    0\n",
      "Churn Category                          0\n",
      "Churn Reason                            0\n",
      "dtype: int64\n"
     ]
    }
   ],
   "source": [
    "# Step 4: Handle missing values before scaling and encoding\n",
    "# Check for missing values\n",
    "missing_values = data_cleaned.isnull().sum()\n",
    "print(f\"Missing Values in Each Column:\\n{missing_values}\")\n",
    "\n",
    "# Impute missing values (if any) using median for numerical columns and mode for categorical columns\n",
    "data_cleaned['Total Charges'] = data_cleaned['Total Charges'].fillna(data_cleaned['Total Charges'].median())\n",
    "data_cleaned['Monthly Charge'] = data_cleaned['Monthly Charge'].fillna(data_cleaned['Monthly Charge'].median())\n",
    "data_cleaned['Tenure in Months'] = data_cleaned['Tenure in Months'].fillna(data_cleaned['Tenure in Months'].median())\n",
    "\n",
    "# If you have categorical columns with missing values, you could do something like this:\n",
    "categorical_cols_with_missing = ['Gender', 'Senior Citizen', 'Married', 'Phone Service']\n",
    "for col in categorical_cols_with_missing:\n",
    "    data_cleaned[col] = data_cleaned[col].fillna(data_cleaned[col].mode()[0])\n",
    "\n",
    "# After filling missing values, check if there are any remaining missing values\n",
    "missing_values_after_imputation = data_cleaned.isnull().sum()\n",
    "print(f\"Missing Values After Imputation:\\n{missing_values_after_imputation}\")\n"
   ]
  },
  {
   "cell_type": "code",
   "execution_count": 9,
   "id": "f390685f-5e94-451b-b6fe-be6e0faf2d59",
   "metadata": {},
   "outputs": [
    {
     "name": "stdout",
     "output_type": "stream",
     "text": [
      "Scaled Numerical Variables:\n",
      "   Tenure in Months  Monthly Charge  Total Charges\n",
      "0         -1.278988       -0.834611      -0.988823\n",
      "1         -0.993743        0.528063      -0.726848\n",
      "2         -0.586250        1.019955      -0.232929\n",
      "3         -0.301005        1.121324       0.103315\n",
      "4          0.187986        0.390134       0.259379\n"
     ]
    }
   ],
   "source": [
    "# Step 5: Scale numerical variables using StandardScaler\n",
    "# Numerical columns to scale\n",
    "numerical_cols = ['Tenure in Months', 'Monthly Charge', 'Total Charges']\n",
    "\n",
    "# Initialize StandardScaler\n",
    "scaler = StandardScaler()\n",
    "\n",
    "# Apply StandardScaler to the numerical columns\n",
    "data_cleaned[numerical_cols] = scaler.fit_transform(data_cleaned[numerical_cols])\n",
    "\n",
    "# Check scaled values\n",
    "print(\"Scaled Numerical Variables:\")\n",
    "print(data_cleaned[numerical_cols].head())\n"
   ]
  },
  {
   "cell_type": "code",
   "execution_count": 10,
   "id": "02829874-aebd-42ae-aafc-500069b2a341",
   "metadata": {},
   "outputs": [],
   "source": [
    "# Step 6: Feature Engineering - Create additional features (optional but can be useful)\n",
    "# Example: Create a 'Total Spend' feature by multiplying 'Tenure in Months' and 'Monthly Charge'\n",
    "data_cleaned['Total Spend'] = data_cleaned['Tenure in Months'] * data_cleaned['Monthly Charge']\n"
   ]
  },
  {
   "cell_type": "code",
   "execution_count": 11,
   "id": "d9f26368-217d-4f1f-9d95-672c70982f4b",
   "metadata": {},
   "outputs": [],
   "source": [
    "# Step 7: Split the dataset into features (X) and target variable (y)\n",
    "# Assuming the target column is 'Churn Label'\n",
    "X = data_cleaned.drop(columns=['Churn Label'])\n",
    "y = data_cleaned['Churn Label']\n"
   ]
  },
  {
   "cell_type": "code",
   "execution_count": 12,
   "id": "9dab55ae-98ee-4d3c-b35e-f1725e4d3021",
   "metadata": {},
   "outputs": [],
   "source": [
    "# Step 7: Split the dataset into features (X) and target variable (y)\n",
    "# Assuming the target column is 'Churn Label'\n",
    "X = data_cleaned.drop(columns=['Churn Label'])\n",
    "y = data_cleaned['Churn Label']\n"
   ]
  },
  {
   "cell_type": "code",
   "execution_count": 13,
   "id": "a56fbae3-3e04-48fe-b2b0-3444ee75e646",
   "metadata": {},
   "outputs": [],
   "source": [
    "# Step 8: Train-test split (80% training, 20% testing)\n",
    "X_train, X_test, y_train, y_test = train_test_split(X, y, test_size=0.2, random_state=42)\n"
   ]
  },
  {
   "cell_type": "code",
   "execution_count": 14,
   "id": "23fd1ccc-2677-43a9-a4f3-354e2e0abd98",
   "metadata": {},
   "outputs": [],
   "source": [
    "# Step 9: Save the processed and scaled data\n",
    "scaled_data_path = \"../data/processed/scaled_data.csv\"\n",
    "data_cleaned.to_csv(scaled_data_path, index=False)\n"
   ]
  },
  {
   "cell_type": "code",
   "execution_count": 15,
   "id": "aa5de89c-0f84-4fb3-a4a9-3d10fa0fe86a",
   "metadata": {},
   "outputs": [],
   "source": [
    "# Step 10: Save the train-test split data as well (optional for future use)\n",
    "train_data_path = \"../data/processed/train_data.csv\"\n",
    "test_data_path = \"../data/processed/test_data.csv\"\n",
    "X_train.to_csv(train_data_path, index=False)\n",
    "X_test.to_csv(test_data_path, index=False)\n",
    "y_train.to_csv(\"../data/processed/y_train.csv\", index=False)\n",
    "y_test.to_csv(\"../data/processed/y_test.csv\", index=False)\n"
   ]
  },
  {
   "cell_type": "code",
   "execution_count": 16,
   "id": "e61289d4-7a20-45ac-8659-a58328256e47",
   "metadata": {},
   "outputs": [
    {
     "name": "stdout",
     "output_type": "stream",
     "text": [
      "\n",
      "Processed data saved to ../data/processed/scaled_data.csv\n",
      "Training and Testing data saved to ../data/processed/train_data.csv and ../data/processed/test_data.csv\n",
      "\n",
      "Sample of the final processed data:\n",
      "  Customer ID  Gender  Age Under 30  Senior Citizen  Married Dependents  \\\n",
      "0  8779-QRDMV       1   78       No               1        0         No   \n",
      "1  7495-OOKFY       0   74       No               1        1        Yes   \n",
      "2  1658-BYGOY       1   71       No               1        0        Yes   \n",
      "3  4598-XLKNJ       0   78       No               1        1        Yes   \n",
      "4  4846-WHAFZ       0   80       No               1        1        Yes   \n",
      "\n",
      "   Number of Dependents        Country       State  ...  \\\n",
      "0                     0  United States  California  ...   \n",
      "1                     1  United States  California  ...   \n",
      "2                     3  United States  California  ...   \n",
      "3                     1  United States  California  ...   \n",
      "4                     1  United States  California  ...   \n",
      "\n",
      "  Total Long Distance Charges  Total Revenue  Satisfaction Score  \\\n",
      "0                        0.00          59.65                   3   \n",
      "1                      390.80        1024.10                   3   \n",
      "2                      203.94        1910.88                   2   \n",
      "3                      494.00        2995.07                   2   \n",
      "4                      234.21        3102.36                   2   \n",
      "\n",
      "   Customer Status  Churn Label Churn Score  CLTV   Churn Category  \\\n",
      "0          Churned          Yes          91  5433       Competitor   \n",
      "1          Churned          Yes          69  5302       Competitor   \n",
      "2          Churned          Yes          81  3179       Competitor   \n",
      "3          Churned          Yes          88  5337  Dissatisfaction   \n",
      "4          Churned          Yes          67  2793            Price   \n",
      "\n",
      "                   Churn Reason  Total Spend  \n",
      "0  Competitor offered more data     1.067457  \n",
      "1  Competitor made better offer    -0.524759  \n",
      "2  Competitor made better offer    -0.597949  \n",
      "3     Limited range of services    -0.337525  \n",
      "4            Extra data charges     0.073340  \n",
      "\n",
      "[5 rows x 50 columns]\n"
     ]
    }
   ],
   "source": [
    "# Step 11: Print final confirmation and some sample data\n",
    "print(f\"\\nProcessed data saved to {scaled_data_path}\")\n",
    "print(f\"Training and Testing data saved to {train_data_path} and {test_data_path}\")\n",
    "print(\"\\nSample of the final processed data:\")\n",
    "print(data_cleaned.head())\n"
   ]
  }
 ],
 "metadata": {
  "kernelspec": {
   "display_name": "Python 3 (ipykernel)",
   "language": "python",
   "name": "python3"
  },
  "language_info": {
   "codemirror_mode": {
    "name": "ipython",
    "version": 3
   },
   "file_extension": ".py",
   "mimetype": "text/x-python",
   "name": "python",
   "nbconvert_exporter": "python",
   "pygments_lexer": "ipython3",
   "version": "3.12.2"
  }
 },
 "nbformat": 4,
 "nbformat_minor": 5
}
